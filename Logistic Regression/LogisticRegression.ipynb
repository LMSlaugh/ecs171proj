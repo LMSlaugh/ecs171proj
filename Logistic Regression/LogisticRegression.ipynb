{
 "cells": [
  {
   "cell_type": "code",
   "execution_count": 1,
   "metadata": {},
   "outputs": [],
   "source": [
    "import pandas as pd\n",
    "import numpy as np\n",
    "import PI_client as pc\n",
    "import matplotlib\n",
    "import sklearn as sk\n",
    "from sklearn import linear_model"
   ]
  },
  {
   "cell_type": "code",
   "execution_count": 2,
   "metadata": {},
   "outputs": [],
   "source": [
    "# Reading in data, setting index\n",
    "df = pd.read_csv('data/scc_data_to_use.csv')\n",
    "df.index = df.iloc[:,0]\n",
    "df = df.drop([\"Unnamed: 0\"], axis=1)"
   ]
  },
  {
   "cell_type": "code",
   "execution_count": 4,
   "metadata": {},
   "outputs": [],
   "source": [
    "# Splitting into training and testing sets\n",
    "train = df.sample(frac=.7).copy()\n",
    "test = df.drop(train.index).copy()"
   ]
  },
  {
   "cell_type": "code",
   "execution_count": 5,
   "metadata": {},
   "outputs": [],
   "source": [
    "# Separating features from labels\n",
    "col = df.columns\n",
    "col = col[0:len(col)-1]\n",
    "\n",
    "x_train = pd.DataFrame(index=train.index, data=train[col])\n",
    "y_train= pd.DataFrame(index=train.index, data=train[\"Occupied\"])\n",
    "\n",
    "x_test = pd.DataFrame(index=test.index, data=test[col])\n",
    "y_test= pd.DataFrame(index=test.index, data=test[\"Occupied\"])"
   ]
  },
  {
   "cell_type": "code",
   "execution_count": 7,
   "metadata": {},
   "outputs": [],
   "source": [
    "# Creating and training logistic regression model\n",
    "mod = linear_model.LogisticRegression(solver=\"sag\",max_iter=3000)\n",
    "LR_model = mod.fit(x_train,y_train[\"Occupied\"])"
   ]
  },
  {
   "cell_type": "code",
   "execution_count": 9,
   "metadata": {},
   "outputs": [
    {
     "data": {
      "text/plain": [
       "0.9375216938562999"
      ]
     },
     "execution_count": 9,
     "metadata": {},
     "output_type": "execute_result"
    }
   ],
   "source": [
    "# Extracting accuracy\n",
    "accuracy = LR_model.score(x_test,y_test)\n",
    "accuracy"
   ]
  },
  {
   "cell_type": "code",
   "execution_count": 11,
   "metadata": {},
   "outputs": [
    {
     "data": {
      "text/plain": [
       "0.06247830614370009"
      ]
     },
     "execution_count": 11,
     "metadata": {},
     "output_type": "execute_result"
    }
   ],
   "source": [
    "# Converting accuracy to error\n",
    "error = 1-accuracy\n",
    "error"
   ]
  }
 ],
 "metadata": {
  "kernelspec": {
   "display_name": "Python 3",
   "language": "python",
   "name": "python3"
  },
  "language_info": {
   "codemirror_mode": {
    "name": "ipython",
    "version": 3
   },
   "file_extension": ".py",
   "mimetype": "text/x-python",
   "name": "python",
   "nbconvert_exporter": "python",
   "pygments_lexer": "ipython3",
   "version": "3.6.5"
  }
 },
 "nbformat": 4,
 "nbformat_minor": 2
}
